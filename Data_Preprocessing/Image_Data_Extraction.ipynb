{
 "cells": [
  {
   "cell_type": "markdown",
   "source": [
    "### Extract all image data from zip files\n"
   ],
   "metadata": {
    "collapsed": false
   },
   "id": "e425b4307cb46b58"
  },
  {
   "cell_type": "code",
   "execution_count": null,
   "id": "initial_id",
   "metadata": {
    "collapsed": true
   },
   "outputs": [],
   "source": [
    "import pandas as pd\n",
    "import numpy as np\n",
    "# count number of folders in image folder\n",
    "import os\n",
    "\n",
    "image_file_path = r\"C:\\Users\\mm17b2k.DS\\Documents\\ARCANE_Data\\Images\\LTH22069_transfer\"\n",
    "\n",
    "data_file_path = r\"C:\\Users\\mm17b2k.DS\\Documents\\ARCANE_Data\\Data\\LTH22069_cohort_details_jitteredAge.txt\"\n",
    "\n",
    "pd.set_option('display.max_columns', None)\n",
    "data = pd.read_csv(data_file_path, sep=\"|\")\n",
    "data.rename(columns={'pseudoasscessionid': 'pseudoacccessionid'}, inplace=True)\n",
    "data.head(50)"
   ]
  },
  {
   "cell_type": "code",
   "execution_count": null,
   "outputs": [],
   "source": [
    "# extract file names from image folders\n",
    "image_folders = os.listdir(image_file_path)\n",
    "print(\"Number of patients in image folder:\", len(image_folders))\n",
    "# Number of folders in image folder: 1229"
   ],
   "metadata": {
    "collapsed": false
   },
   "id": "fe5ee5cb92e44be3"
  },
  {
   "cell_type": "code",
   "execution_count": 54,
   "outputs": [],
   "source": [
    "import os\n",
    "import zipfile\n",
    "\n",
    "def unzip_files(input_folder, output_folder):\n",
    "    # Ensure the output folder exists\n",
    "    if not os.path.exists(output_folder):\n",
    "        os.makedirs(output_folder)\n",
    "\n",
    "    # Walk through the input folder\n",
    "    for root, _, files in os.walk(input_folder):\n",
    "        for file in files:\n",
    "            if file.endswith('.zip'):\n",
    "                zip_file_path = os.path.join(root, file)\n",
    "                with zipfile.ZipFile(zip_file_path, 'r') as zip_ref:\n",
    "                    # Extract the contents into the output folder\n",
    "                    zip_ref.extractall(output_folder)\n",
    "\n",
    "if __name__ == \"__main__\":\n",
    "    input_folder = r\"C:\\Users\\mm17b2k.DS\\Documents\\ARCANE_Data\\Images\\LTH22069_transfer\"\n",
    "    output_folder = r\"C:\\Users\\mm17b2k.DS\\Documents\\ARCANE_Data\\Images\\Full_Data\"\n",
    "    unzip_files(input_folder, output_folder)\n",
    "\n",
    "# Total time: 1hr"
   ],
   "metadata": {
    "collapsed": false,
    "ExecuteTime": {
     "end_time": "2024-04-24T11:30:32.930866200Z",
     "start_time": "2024-04-24T10:33:36.217914200Z"
    }
   },
   "id": "69cf4812ada82e2b"
  },
  {
   "cell_type": "code",
   "execution_count": 26,
   "outputs": [
    {
     "name": "stdout",
     "output_type": "stream",
     "text": [
      "Number of patients: 1284 , Number of events: 1290 , Number of imaging events: 4331\n"
     ]
    }
   ],
   "source": [
    "# extract patient ids as list\n",
    "patient_ids = data['shortpatpseudoid'].unique().tolist()\n",
    "\n",
    "# check if short and full id have same number\n",
    "assert len(patient_ids) == len(data['patpseudoid'].unique().tolist())\n",
    "imaging_event_ids = data['shortpseudoaccessionid'].unique().tolist()\n",
    "assert len(imaging_event_ids) == len(data['pseudoacccessionid'].unique().tolist())\n",
    "\n",
    "\n",
    "\n",
    "print(\"Number of patients:\", len(patient_ids), \", Number of imaging events:\", len(imaging_event_ids))"
   ],
   "metadata": {
    "collapsed": false,
    "ExecuteTime": {
     "end_time": "2024-04-24T09:50:34.089985900Z",
     "start_time": "2024-04-24T09:50:34.082993100Z"
    }
   },
   "id": "cf2cfd25db48a89e"
  },
  {
   "cell_type": "code",
   "execution_count": null,
   "outputs": [],
   "source": [
    "multiple_entries = []\n",
    "for i in range(len(imaging_event_ids)):\n",
    "    x = imaging_event_ids[i]\n",
    "    if len(data[data['shortpseudoaccessionid'] == x]) > 1:\n",
    "        multiple_entries.append(x)\n",
    "\n",
    "print(\"Number of imaging events with multiple entries due to chemoradiotherapy:\", len(multiple_entries))\n",
    "# Number of imaging events with multiple entries due to chemoradiotherapy or surgery: 1651\n",
    "data[data['shortpseudoaccessionid'] == multiple_entries[0]]"
   ],
   "metadata": {
    "collapsed": false
   },
   "id": "18fdf38f0cf40722"
  }
 ],
 "metadata": {
  "kernelspec": {
   "display_name": "Python 3",
   "language": "python",
   "name": "python3"
  },
  "language_info": {
   "codemirror_mode": {
    "name": "ipython",
    "version": 2
   },
   "file_extension": ".py",
   "mimetype": "text/x-python",
   "name": "python",
   "nbconvert_exporter": "python",
   "pygments_lexer": "ipython2",
   "version": "2.7.6"
  }
 },
 "nbformat": 4,
 "nbformat_minor": 5
}
